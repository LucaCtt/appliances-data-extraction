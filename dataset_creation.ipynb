{
 "cells": [
  {
   "cell_type": "markdown",
   "metadata": {},
   "source": [
    "# Home Dataset Creation"
   ]
  },
  {
   "cell_type": "markdown",
   "metadata": {},
   "source": [
    "This notebook is used to create the home dataset, by composing different appliances and their respective power consumption. The dataset used is GREEND. The power consumption and metadata are read from the dataset using the [nilmtk](https://github.com/nilmtk) library."
   ]
  },
  {
   "cell_type": "markdown",
   "metadata": {},
   "source": [
    "## Setup"
   ]
  },
  {
   "cell_type": "code",
   "execution_count": null,
   "metadata": {},
   "outputs": [],
   "source": [
    "%pip install git+https://github.com/nilmtk/nilmtk # Install from git because the conda package is out of date\n",
    "%pip install git+https://github.com/nilmtk/nilm_metadata "
   ]
  },
  {
   "cell_type": "markdown",
   "metadata": {},
   "source": [
    "## Smart*"
   ]
  },
  {
   "cell_type": "markdown",
   "metadata": {},
   "source": [
    "### Import Dataset"
   ]
  },
  {
   "cell_type": "code",
   "execution_count": 5,
   "metadata": {},
   "outputs": [],
   "source": [
    "from nilmtk import DataSet\n",
    "from nilmtk.utils import print_dict\n",
    "\n",
    "smart_star = DataSet('data/smart_star.h5')"
   ]
  },
  {
   "cell_type": "markdown",
   "metadata": {},
   "source": [
    "## GREEND"
   ]
  },
  {
   "cell_type": "code",
   "execution_count": 2,
   "metadata": {},
   "outputs": [],
   "source": [
    "from nilmtk import DataSet\n",
    "from nilmtk.utils import print_dict\n",
    "\n",
    "greend = DataSet('data/greend.h5')"
   ]
  },
  {
   "cell_type": "code",
   "execution_count": 121,
   "metadata": {},
   "outputs": [
    {
     "name": "stdout",
     "output_type": "stream",
     "text": [
      "> Building: 1\n",
      "  - Appliance: dish washer ... OK\n",
      "  - Appliance: washing machine ... OK\n",
      "  - Appliance: radio ... OK\n",
      "  - Appliance: lamp ... OK\n",
      "  - Appliance: fridge ... OK\n",
      "  - Appliance: television ... OK\n",
      "> Building: 3\n",
      "  - Appliance: microwave ... OK\n",
      "> Building: 6\n",
      "  - Appliance: electric oven ... OK\n"
     ]
    }
   ],
   "source": [
    "appliances = {\n",
    "    1: ['radio', 'lamp', 'fridge', 'television'],\n",
    "    3: ['microwave'],\n",
    "}\n",
    "\n",
    "def replace_with_average(group):\n",
    "    group['power'] = group['power'].mean()\n",
    "    return group.iloc[:1]\n",
    "\n",
    "for building, appliance_list in appliances.items():\n",
    "    print(\"> Building:\", building)\n",
    "    for appliance in appliance_list:\n",
    "        print(f\"  - Appliance: {appliance} ... \", end=\"\")\n",
    "        name_undercase = appliance.replace(' ', '_')\n",
    "\n",
    "        df = next(greend.buildings[building].elec[appliance].load()).reset_index()\n",
    "        df.columns = [\"timestamp\", \"power\"]\n",
    "        df.drop(columns=[\"timestamp\"], inplace=True)\n",
    "        #df = df.groupby(df.index // 60).apply(replace_with_average)\n",
    "        #df = df.reset_index(drop=True)\n",
    "        df = df.rolling(60, min_periods=1).mean()[::60]\n",
    "\n",
    "        df.to_csv(f\"appliances/{name_undercase}.csv\", index=False)\n",
    "        print(\"OK\")"
   ]
  },
  {
   "cell_type": "code",
   "execution_count": 109,
   "metadata": {},
   "outputs": [],
   "source": [
    "import numpy as np\n",
    "from nilmtk.utils import timedelta64_to_secs\n",
    "\n",
    "def get_activations(chunk, min_off_duration=0, min_on_duration=0,\n",
    "                    border=1, on_power_threshold=5):\n",
    "    \"\"\"Returns runs of an appliance.\n",
    "\n",
    "    Most appliances spend a lot of their time off.  This function finds\n",
    "    periods when the appliance is on.\n",
    "\n",
    "    Parameters\n",
    "    ----------\n",
    "    chunk : pd.Series\n",
    "    min_off_duration : int\n",
    "        If min_off_duration > 0 then ignore 'off' periods less than\n",
    "        min_off_duration seconds of sub-threshold power consumption\n",
    "        (e.g. a washing machine might draw no power for a short\n",
    "        period while the clothes soak.)  Defaults to 0.\n",
    "    min_on_duration : int\n",
    "        Any activation lasting less seconds than min_on_duration will be\n",
    "        ignored.  Defaults to 0.\n",
    "    border : int\n",
    "        Number of rows to include before and after the detected activation\n",
    "    on_power_threshold : int or float\n",
    "        Watts\n",
    "\n",
    "    Returns\n",
    "    -------\n",
    "    list of pd.Series.  Each series contains one activation.\n",
    "    \"\"\"\n",
    "    when_on = chunk >= on_power_threshold\n",
    "\n",
    "    # Find state changes\n",
    "    state_changes = when_on.astype(np.int).diff()\n",
    "    del when_on\n",
    "    switch_on_events = np.where(state_changes == 1)[0]\n",
    "    switch_off_events = np.where(state_changes == -1)[0]\n",
    "    del state_changes\n",
    "\n",
    "    if len(switch_on_events) == 0 or len(switch_off_events) == 0:\n",
    "        return []\n",
    "\n",
    "    # Make sure events align\n",
    "    if switch_off_events[0] < switch_on_events[0]:\n",
    "        switch_off_events = switch_off_events[1:]\n",
    "        if len(switch_off_events) == 0:\n",
    "            return []\n",
    "    if switch_on_events[-1] > switch_off_events[-1]:\n",
    "        switch_on_events = switch_on_events[:-1]\n",
    "        if len(switch_on_events) == 0:\n",
    "            return []\n",
    "    assert len(switch_on_events) == len(switch_off_events)\n",
    "\n",
    "    # Smooth over off-durations less than min_off_duration\n",
    "    if min_off_duration > 0:\n",
    "        off_durations = (chunk.index[switch_on_events[1:]].values -\n",
    "                         chunk.index[switch_off_events[:-1]].values)\n",
    "\n",
    "        #off_durations = timedelta64_to_secs(off_durations)\n",
    "\n",
    "        above_threshold_off_durations = np.where(\n",
    "            off_durations >= min_off_duration)[0]\n",
    "\n",
    "        # Now remove off_events and on_events\n",
    "        switch_off_events = switch_off_events[\n",
    "            np.concatenate([above_threshold_off_durations,\n",
    "                            [len(switch_off_events)-1]])]\n",
    "        switch_on_events = switch_on_events[\n",
    "            np.concatenate([[0], above_threshold_off_durations+1])]\n",
    "    assert len(switch_on_events) == len(switch_off_events)\n",
    "\n",
    "    activations = []\n",
    "    for on, off in zip(switch_on_events, switch_off_events):\n",
    "        duration = (chunk.index[off] - chunk.index[on])\n",
    "        if duration < min_on_duration:\n",
    "            continue\n",
    "        on -= 1 + border\n",
    "        if on < 0:\n",
    "            on = 0\n",
    "        off += border\n",
    "        activation = chunk.iloc[on:off]\n",
    "        # throw away any activation with any NaN values\n",
    "        if not activation.isnull().values.any():\n",
    "            activations.append(activation)\n",
    "\n",
    "    return activations"
   ]
  },
  {
   "cell_type": "code",
   "execution_count": 187,
   "metadata": {},
   "outputs": [
    {
     "name": "stdout",
     "output_type": "stream",
     "text": [
      "114 261.06140350877195\n"
     ]
    }
   ],
   "source": [
    "activations = greend.buildings[1].elec['television'].get_activations(min_off_duration=10, min_on_duration=10, on_power_threshold=10)\n",
    "\n",
    "lens = [len(a) for a in activations]\n",
    "lens_mean = np.mean(lens)\n",
    "print(len(activations), lens_mean)"
   ]
  },
  {
   "cell_type": "code",
   "execution_count": 179,
   "metadata": {},
   "outputs": [
    {
     "name": "stdout",
     "output_type": "stream",
     "text": [
      "> Building: 1\n",
      "  - Appliance: lamp ... "
     ]
    },
    {
     "name": "stderr",
     "output_type": "stream",
     "text": [
      "/tmp/ipykernel_8858/2618542674.py:23: FutureWarning: The signature of `Series.to_csv` was aligned to that of `DataFrame.to_csv`, and argument 'header' will change its default value from False to True: please pass an explicit value to suppress this warning.\n",
      "  activ.to_csv(f\"activations/{name_undercase}/{i}.csv\", index=False)\n"
     ]
    },
    {
     "name": "stdout",
     "output_type": "stream",
     "text": [
      "OK\n",
      "  - Appliance: radio ... OK\n",
      "> Building: 3\n",
      "  - Appliance: microwave ... OK\n"
     ]
    }
   ],
   "source": [
    "import os \n",
    "\n",
    "activations ={\n",
    "    1: {'lamp': [10,10,5], 'radio': [10,10,20], 'television': [10,10,10]},\n",
    "    3: {'microwave': [30,12,200]},\n",
    "}\n",
    "\n",
    "for building, appliance_list in activations.items():\n",
    "    print(\"> Building:\", building)\n",
    "    for appliance, params in appliance_list.items():\n",
    "        print(f\"  - Appliance: {appliance} ... \", end=\"\")\n",
    "        name_undercase = appliance.replace(' ', '_')\n",
    "\n",
    "        #app = pd.read_csv(f\"appliances/{name_undercase}.csv\"\n",
    "        app = greend.buildings[building].elec[appliance].get_activations(min_off_duration=params[0], min_on_duration=params[1], on_power_threshold=params[2])\n",
    "\n",
    "        os.mkdir(f\"activations/{name_undercase}\")\n",
    "\n",
    "        for i, activ in enumerate(app):\n",
    "            activ.reset_index(drop=True, inplace=True)\n",
    "            activ.dropna(inplace=True)\n",
    "        \n",
    "            activ.to_csv(f\"activations/{name_undercase}/{i}.csv\", index=False)\n",
    "\n",
    "        print(\"OK\")"
   ]
  },
  {
   "cell_type": "markdown",
   "metadata": {},
   "source": [
    "## DEDDIAG"
   ]
  },
  {
   "cell_type": "markdown",
   "metadata": {},
   "source": [
    "### Load Dataset"
   ]
  },
  {
   "cell_type": "code",
   "execution_count": 78,
   "metadata": {},
   "outputs": [],
   "source": [
    "from nilmtk import DataSet\n",
    "\n",
    "deddiag = DataSet('data/deddiag.h5')\n",
    "building = 8\n",
    "elec = deddiag.buildings[building].elec"
   ]
  },
  {
   "cell_type": "markdown",
   "metadata": {},
   "source": [
    "### Extract Appliances"
   ]
  },
  {
   "cell_type": "code",
   "execution_count": 107,
   "metadata": {},
   "outputs": [
    {
     "data": {
      "text/plain": [
       "68"
      ]
     },
     "execution_count": 107,
     "metadata": {},
     "output_type": "execute_result"
    }
   ],
   "source": [
    "dish_washer = elec['washing machine']\n",
    "\n",
    "len(dish_washer.get_activations(min_on_duration=10*60, min_off_duration=10*60, on_power_threshold=300))"
   ]
  }
 ],
 "metadata": {
  "kernelspec": {
   "display_name": "nilmtk-env",
   "language": "python",
   "name": "python3"
  },
  "language_info": {
   "codemirror_mode": {
    "name": "ipython",
    "version": 3
   },
   "file_extension": ".py",
   "mimetype": "text/x-python",
   "name": "python",
   "nbconvert_exporter": "python",
   "pygments_lexer": "ipython3",
   "version": "3.8.18"
  }
 },
 "nbformat": 4,
 "nbformat_minor": 2
}
