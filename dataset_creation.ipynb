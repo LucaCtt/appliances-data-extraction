{
 "cells": [
  {
   "cell_type": "markdown",
   "metadata": {},
   "source": [
    "# Home Dataset Creation"
   ]
  },
  {
   "cell_type": "markdown",
   "metadata": {},
   "source": [
    "This notebook is used to create the home dataset, by composing different appliances and their respective power consumption. The dataset used is GREEND. The power consumption and metadata are read from the dataset using the [nilmtk](https://github.com/nilmtk) library."
   ]
  },
  {
   "cell_type": "markdown",
   "metadata": {},
   "source": [
    "## Setup"
   ]
  },
  {
   "cell_type": "code",
   "execution_count": null,
   "metadata": {},
   "outputs": [],
   "source": [
    "%pip install git+https://github.com/nilmtk/nilmtk # Install from git because the conda package is out of date\n",
    "%pip install git+https://github.com/nilmtk/nilm_metadata "
   ]
  },
  {
   "cell_type": "markdown",
   "metadata": {},
   "source": [
    "## GREEND"
   ]
  },
  {
   "cell_type": "code",
   "execution_count": 1,
   "metadata": {},
   "outputs": [],
   "source": [
    "from nilmtk import DataSet\n",
    "from nilmtk.utils import print_dict\n",
    "\n",
    "greend = DataSet('data/greend.h5')"
   ]
  },
  {
   "cell_type": "code",
   "execution_count": 121,
   "metadata": {},
   "outputs": [
    {
     "name": "stdout",
     "output_type": "stream",
     "text": [
      "> Building: 1\n",
      "  - Appliance: dish washer ... OK\n",
      "  - Appliance: washing machine ... OK\n",
      "  - Appliance: radio ... OK\n",
      "  - Appliance: lamp ... OK\n",
      "  - Appliance: fridge ... OK\n",
      "  - Appliance: television ... OK\n",
      "> Building: 3\n",
      "  - Appliance: microwave ... OK\n",
      "> Building: 6\n",
      "  - Appliance: electric oven ... OK\n"
     ]
    }
   ],
   "source": [
    "appliances = {\n",
    "    1: ['fridge', 'lamp', 'television'],\n",
    "    3: ['microwave', 'washing machine', 'audio amplifier'],\n",
    "}\n",
    "\n",
    "def replace_with_average(group):\n",
    "    group['power'] = group['power'].mean()\n",
    "    return group.iloc[:1]\n",
    "\n",
    "for building, appliance_list in appliances.items():\n",
    "    print(\"> Building:\", building)\n",
    "    for appliance in appliance_list:\n",
    "        print(f\"  - Appliance: {appliance} ... \", end=\"\")\n",
    "        name_undercase = appliance.replace(' ', '_')\n",
    "\n",
    "        df = next(greend.buildings[building].elec[appliance].load()).reset_index()\n",
    "        df.columns = [\"timestamp\", \"power\"]\n",
    "        df.drop(columns=[\"timestamp\"], inplace=True)\n",
    "        #df = df.groupby(df.index // 60).apply(replace_with_average)\n",
    "        #df = df.reset_index(drop=True)\n",
    "        df = df.rolling(60, min_periods=1).mean()[::60]\n",
    "\n",
    "        df.to_csv(f\"appliances/{name_undercase}.csv\", index=False)\n",
    "        print(\"OK\")"
   ]
  },
  {
   "cell_type": "code",
   "execution_count": 36,
   "metadata": {},
   "outputs": [
    {
     "name": "stdout",
     "output_type": "stream",
     "text": [
      "2311 471.80571181306794\n"
     ]
    }
   ],
   "source": [
    "import numpy as np\n",
    "\n",
    "activations = greend.buildings[3].elec['microwave'].get_activations(min_off_duration=20, min_on_duration=10, on_power_threshold=20)\n",
    "\n",
    "lens = [len(a) for a in activations]\n",
    "lens_mean = np.mean(lens)\n",
    "print(len(activations), lens_mean)"
   ]
  },
  {
   "cell_type": "code",
   "execution_count": 206,
   "metadata": {},
   "outputs": [
    {
     "name": "stdout",
     "output_type": "stream",
     "text": [
      "> Building: 1\n",
      "  - Appliance: television ... "
     ]
    },
    {
     "name": "stderr",
     "output_type": "stream",
     "text": [
      "/tmp/ipykernel_8858/684010811.py:22: FutureWarning: The signature of `Series.to_csv` was aligned to that of `DataFrame.to_csv`, and argument 'header' will change its default value from False to True: please pass an explicit value to suppress this warning.\n",
      "  activ.to_csv(f\"activations/{name_undercase}/{i}.csv\", index=False)\n"
     ]
    },
    {
     "name": "stdout",
     "output_type": "stream",
     "text": [
      "OK\n"
     ]
    }
   ],
   "source": [
    "import os \n",
    "\n",
    "activations ={\n",
    "    1: {'fridge': [10,10,40], 'lamp': [10,10,5], 'television': [10,10,10]},\n",
    "    3: {'microwave': [20,10,20], 'washing machine': [30,30,20], 'audio amplifier': [5,5,10]},\n",
    "}\n",
    "\n",
    "for building, appliance_list in activations.items():\n",
    "    print(\"> Building:\", building)\n",
    "    for appliance, params in appliance_list.items():\n",
    "        print(f\"  - Appliance: {appliance} ... \", end=\"\")\n",
    "        name_undercase = appliance.replace(' ', '_')\n",
    "\n",
    "        #app = pd.read_csv(f\"appliances/{name_undercase}.csv\"\n",
    "        app = greend.buildings[building].elec[appliance].get_activations(min_off_duration=params[0], min_on_duration=params[1], on_power_threshold=params[2])\n",
    "\n",
    "        os.mkdir(f\"activations/{name_undercase}\")\n",
    "\n",
    "        for i, activ in enumerate(app):\n",
    "            activ.reset_index(drop=True, inplace=True)\n",
    "            activ.dropna(inplace=True)\n",
    "        \n",
    "            activ.to_csv(f\"activations/{name_undercase}/{i}.csv\", index=False)\n",
    "\n",
    "        print(\"OK\")"
   ]
  },
  {
   "cell_type": "markdown",
   "metadata": {},
   "source": [
    "### Extract Appliances"
   ]
  },
  {
   "cell_type": "markdown",
   "metadata": {},
   "source": [
    "## Deddiag"
   ]
  },
  {
   "cell_type": "code",
   "execution_count": 1,
   "metadata": {},
   "outputs": [],
   "source": [
    "from nilmtk import DataSet\n",
    "\n",
    "deddiag = DataSet('data/deddiag.h5')\n",
    "elec = deddiag.buildings[8].elec\n",
    "dish_washer = elec['washing machine']"
   ]
  },
  {
   "cell_type": "code",
   "execution_count": 13,
   "metadata": {},
   "outputs": [
    {
     "name": "stdout",
     "output_type": "stream",
     "text": [
      "316 947.2025316455696\n"
     ]
    }
   ],
   "source": [
    "import numpy as np\n",
    "\n",
    "activations = dish_washer.get_activations(min_on_duration=30, min_off_duration=10, on_power_threshold=10)\n",
    "\n",
    "lens = [len(a) for a in activations]\n",
    "lens_mean = np.mean(lens)\n",
    "print(len(activations), lens_mean)"
   ]
  },
  {
   "cell_type": "markdown",
   "metadata": {},
   "source": [
    "## AMPDs2"
   ]
  },
  {
   "cell_type": "code",
   "execution_count": 2,
   "metadata": {},
   "outputs": [],
   "source": [
    "from nilmtk import DataSet\n",
    "\n",
    "ampds = DataSet('ampds2/AMPds2.h5')"
   ]
  },
  {
   "cell_type": "code",
   "execution_count": 8,
   "metadata": {},
   "outputs": [
    {
     "data": {
      "text/plain": [
       "MeterGroup(meters=\n",
       "  ElecMeter(instance=1, building=1, dataset='AMPds', site_meter, appliances=[])\n",
       "  ElecMeter(instance=2, building=1, dataset='AMPds', appliances=[Appliance(type='light', instance=1)])\n",
       "  ElecMeter(instance=3, building=1, dataset='AMPds', appliances=[Appliance(type='light', instance=2)])\n",
       "  ElecMeter(instance=4, building=1, dataset='AMPds', appliances=[Appliance(type='light', instance=3)])\n",
       "  ElecMeter(instance=5, building=1, dataset='AMPds', appliances=[Appliance(type='unknown', instance=1)])\n",
       "  ElecMeter(instance=6, building=1, dataset='AMPds', appliances=[Appliance(type='unknown', instance=2)])\n",
       "  ElecMeter(instance=7, building=1, dataset='AMPds', appliances=[Appliance(type='sockets', instance=1)])\n",
       "  ElecMeter(instance=8, building=1, dataset='AMPds', appliances=[Appliance(type='unknown', instance=3)])\n",
       "  ElecMeter(instance=9, building=1, dataset='AMPds', appliances=[Appliance(type='unknown', instance=4)])\n",
       "  ElecMeter(instance=10, building=1, dataset='AMPds', appliances=[Appliance(type='unknown', instance=5)])\n",
       "  ElecMeter(instance=11, building=1, dataset='AMPds', appliances=[Appliance(type='fridge', instance=1)])\n",
       "  ElecMeter(instance=12, building=1, dataset='AMPds', appliances=[Appliance(type='unknown', instance=6)])\n",
       "  ElecMeter(instance=13, building=1, dataset='AMPds', appliances=[Appliance(type='unknown', instance=7)])\n",
       "  ElecMeter(instance=14, building=1, dataset='AMPds', appliances=[Appliance(type='heat pump', instance=1)])\n",
       "  ElecMeter(instance=15, building=1, dataset='AMPds', appliances=[Appliance(type='unknown', instance=8)])\n",
       "  ElecMeter(instance=16, building=1, dataset='AMPds', appliances=[Appliance(type='light', instance=4)])\n",
       "  ElecMeter(instance=17, building=1, dataset='AMPds', appliances=[Appliance(type='sockets', instance=2)])\n",
       "  ElecMeter(instance=18, building=1, dataset='AMPds', appliances=[Appliance(type='unknown', instance=9)])\n",
       "  ElecMeter(instance=19, building=1, dataset='AMPds', appliances=[Appliance(type='television', instance=1)])\n",
       "  ElecMeter(instance=20, building=1, dataset='AMPds', appliances=[Appliance(type='sockets', instance=3)])\n",
       "  ElecMeter(instance=21, building=1, dataset='AMPds', appliances=[Appliance(type='electric oven', instance=1)])\n",
       ")"
      ]
     },
     "execution_count": 8,
     "metadata": {},
     "output_type": "execute_result"
    }
   ],
   "source": [
    "ampds.buildings[1].elec"
   ]
  }
 ],
 "metadata": {
  "kernelspec": {
   "display_name": "nilmtk-env",
   "language": "python",
   "name": "python3"
  },
  "language_info": {
   "codemirror_mode": {
    "name": "ipython",
    "version": 3
   },
   "file_extension": ".py",
   "mimetype": "text/x-python",
   "name": "python",
   "nbconvert_exporter": "python",
   "pygments_lexer": "ipython3",
   "version": "3.8.18"
  }
 },
 "nbformat": 4,
 "nbformat_minor": 2
}
