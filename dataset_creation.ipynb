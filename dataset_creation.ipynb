{
 "cells": [
  {
   "cell_type": "markdown",
   "metadata": {},
   "source": [
    "# Home Dataset Creation"
   ]
  },
  {
   "cell_type": "markdown",
   "metadata": {},
   "source": [
    "This notebook is used to create the home dataset, by composing different appliances and their respective power consumption. The dataset used is GREEND. The power consumption and metadata are read from the dataset using the [nilmtk](https://github.com/nilmtk) library."
   ]
  },
  {
   "cell_type": "markdown",
   "metadata": {},
   "source": [
    "## Setup"
   ]
  },
  {
   "cell_type": "code",
   "execution_count": null,
   "metadata": {},
   "outputs": [],
   "source": [
    "%pip install git+https://github.com/nilmtk/nilmtk # Install from git because the conda package is out of date\n",
    "%pip install git+https://github.com/nilmtk/nilm_metadata "
   ]
  },
  {
   "cell_type": "markdown",
   "metadata": {},
   "source": [
    "## Smart*"
   ]
  },
  {
   "cell_type": "markdown",
   "metadata": {},
   "source": [
    "### Import Dataset"
   ]
  },
  {
   "cell_type": "code",
   "execution_count": 5,
   "metadata": {},
   "outputs": [],
   "source": [
    "from nilmtk import DataSet\n",
    "from nilmtk.utils import print_dict\n",
    "\n",
    "smart_star = DataSet('data/smart_star.h5')"
   ]
  },
  {
   "cell_type": "markdown",
   "metadata": {},
   "source": [
    "## GREEND"
   ]
  },
  {
   "cell_type": "code",
   "execution_count": 1,
   "metadata": {},
   "outputs": [],
   "source": [
    "from nilmtk import DataSet\n",
    "from nilmtk.utils import print_dict\n",
    "\n",
    "greend = DataSet('data/greend.h5')"
   ]
  },
  {
   "cell_type": "code",
   "execution_count": 3,
   "metadata": {},
   "outputs": [
    {
     "data": {
      "text/html": [
       "<ul><li><strong>name</strong>: GREEND</li><li><strong>long_name</strong>: GREEND Electrical ENergy Dataset</li><li><strong>creators</strong>: <ul><li>Egarter, Dominik</li><li>Elmenreich, Wilfried</li><li>Monacchi, Andrea</li><li>Pöchacker, Manfred</li></ul></li><li><strong>timezone</strong>: CET</li><li><strong>institution</strong>: Alpen-Adria-Universität</li><li><strong>number_of_buildings</strong>: 8</li><li><strong>geo_location</strong>: <ul><li><strong>locality</strong>: Klagenfurt</li><li><strong>country</strong>: AT</li><li><strong>latitude</strong>: 46.61415</li><li><strong>longitude</strong>: 14.263321</li></ul></li><li><strong>related_documents</strong>: <ul><li><a href=\"http://arxiv.org/abs/1405.3100\">http://arxiv.org/abs/1405.3100</a></li></ul></li><li><strong>schema</strong>: <a href=\"https://github.com/nilmtk/nilm_metadata/tree/v0.2\">https://github.com/nilmtk/nilm_metadata/tree/v0.2</a></li><li><strong>meter_devices</strong>: <ul><li><strong>circle</strong>: <ul><li><strong>model</strong>: circle</li><li><strong>model_url</strong>: <a href=\"http://www.plugwise.com/product/circle\">http://www.plugwise.com/product/circle</a></li><li><strong>manufacturer</strong>: Plugwise</li><li><strong>manufacturer_url</strong>: <a href=\"http://www.plugwise.com\">http://www.plugwise.com</a></li><li><strong>sample_period</strong>: 1</li><li><strong>max_sample_period</strong>: 30</li><li><strong>measurements</strong>: <ul><li>{'physical_quantity': 'power', 'type': 'active', 'upper_limit': 3000, 'lower_limit': 0}</li></ul></li><li><strong>description</strong>: des</li><li><strong>pre_pay</strong>: False</li><li><strong>wireless</strong>: True</li><li><strong>wireless_configuration</strong>: <ul><li><strong>base</strong>: Raspberry Pi</li><li><strong>protocol</strong>: zigbee</li><li><strong>carrier_frequency</strong>: 2400</li></ul></li><li><strong>data_logger</strong>: log</li></ul></li></ul></li></ul>"
      ],
      "text/plain": [
       "<IPython.core.display.HTML object>"
      ]
     },
     "metadata": {},
     "output_type": "display_data"
    }
   ],
   "source": [
    "print_dict(greend.metadata)"
   ]
  },
  {
   "cell_type": "code",
   "execution_count": 6,
   "metadata": {},
   "outputs": [
    {
     "data": {
      "text/plain": [
       "MeterGroup(meters=\n",
       "  ElecMeter(instance=1, building=3, dataset='GREEND', appliances=[Appliance(type='fridge', instance=1)], room=kitchen)\n",
       "  ElecMeter(instance=2, building=3, dataset='GREEND', appliances=[Appliance(type='dish washer', instance=1)], room=kitchen)\n",
       "  ElecMeter(instance=3, building=3, dataset='GREEND', appliances=[Appliance(type='microwave', instance=1)], room=kitchen)\n",
       "  ElecMeter(instance=4, building=3, dataset='GREEND', appliances=[Appliance(type='kettle', instance=1)], room=kitchen)\n",
       "  ElecMeter(instance=5, building=3, dataset='GREEND', appliances=[Appliance(type='washing machine', instance=1)], room=bathroom)\n",
       "  ElecMeter(instance=6, building=3, dataset='GREEND', appliances=[Appliance(type='audio amplifier', instance=1)], room=lounge)\n",
       "  ElecMeter(instance=7, building=3, dataset='GREEND', appliances=[Appliance(type='hair dryer', instance=1), Appliance(type='charger', instance=1)], room=bathroom)\n",
       "  ElecMeter(instance=8, building=3, dataset='GREEND', appliances=[Appliance(type='food processor', instance=1)], room=kitchen)\n",
       "  ElecMeter(instance=9, building=3, dataset='GREEND', appliances=[Appliance(type='incandescent lamp', instance=1)], room=bedroom)\n",
       ")"
      ]
     },
     "execution_count": 6,
     "metadata": {},
     "output_type": "execute_result"
    }
   ],
   "source": []
  },
  {
   "cell_type": "code",
   "execution_count": 7,
   "metadata": {},
   "outputs": [
    {
     "name": "stdout",
     "output_type": "stream",
     "text": [
      "> Building: 3\n",
      "  - Appliance: food processor ... OK\n"
     ]
    }
   ],
   "source": [
    "appliances = {\n",
    "    1: ['radio', 'dish washer', 'fridge', 'coffee maker', 'television', 'kettle'],\n",
    "    3: ['microwave', 'food processor'],\n",
    "    5: ['vacuum cleaner'],\n",
    "    6: ['electric oven'],\n",
    "    7: ['toaster', 'washing machine']\n",
    "}\n",
    "\n",
    "def replace_with_average(group):\n",
    "    group['power'] = group['power'].mean()\n",
    "    return group.iloc[:1]\n",
    "\n",
    "for building, appliance_list in appliances.items():\n",
    "    print(\"> Building:\", building)\n",
    "    for appliance in appliance_list:\n",
    "        print(f\"  - Appliance: {appliance} ... \", end=\"\")\n",
    "        name_undercase = appliance.replace(' ', '_')\n",
    "\n",
    "        df = next(greend.buildings[building].elec[appliance].load()).reset_index()\n",
    "        df.columns = [\"timestamp\", \"power\"]\n",
    "        df.drop(columns=[\"timestamp\"], inplace=True)\n",
    "        df = df.groupby(df.index // 120).apply(replace_with_average)\n",
    "        df = df.reset_index(drop=True)\n",
    "        df.dropna(inplace=True)\n",
    "\n",
    "        df.to_csv(f\"appliances/{name_undercase}.csv\", index=False)\n",
    "        print(\"OK\")"
   ]
  },
  {
   "cell_type": "markdown",
   "metadata": {},
   "source": [
    "## DEDDIAG"
   ]
  },
  {
   "cell_type": "markdown",
   "metadata": {},
   "source": [
    "### Load Dataset"
   ]
  },
  {
   "cell_type": "code",
   "execution_count": 86,
   "metadata": {},
   "outputs": [],
   "source": [
    "from nilmtk import DataSet\n",
    "\n",
    "deddiag = DataSet('data/deddiag.h5')\n",
    "building = 8\n",
    "elec = deddiag.buildings[building].elec"
   ]
  },
  {
   "cell_type": "code",
   "execution_count": 5,
   "metadata": {},
   "outputs": [
    {
     "data": {
      "text/html": [
       "<ul><li><strong>name</strong>: DEDDIAG</li><li><strong>long_name</strong>: Domestic Energy Demand Dataset of Individual Appliances Germany</li><li><strong>creators</strong>: <ul><li>Anastasia Hort</li><li>Marc Wenninger</li></ul></li><li><strong>publication_date</strong>: 2020</li><li><strong>contact</strong>: <ul><li>anastasia.hort@stud.fh-rosenheim.de</li><li>marc.wenninger@th-rosenheim.de</li></ul></li><li><strong>description</strong>: Several years of power data for 1 home.</li><li><strong>subject</strong>: Disaggregated power demand from domestic buildings.</li><li><strong>number_of_buildings</strong>: 1</li><li><strong>timezone</strong>: Europe/Berlin</li><li><strong>geo_location</strong>: <ul><li><strong>locality</strong>: </li><li><strong>country</strong>: Germany</li></ul></li><li><strong>related_documents</strong>: <ul><li><a href=\"https://figshare.com/s/932ab256b7ed407792b0\">https://figshare.com/s/932ab256b7ed407792b0</a></li><li>{'DEDDIAG': 'Real-world domestic energy demand datasets are the key enabler for developing and evaluating machine learning algorithms that facilitate analysis of demand attribution and usage behaviour.\\n'}</li></ul></li><li><strong>schema</strong>: <a href=\"https://github.com/nilmtk/nilm_metadata/tree/v0.2\">https://github.com/nilmtk/nilm_metadata/tree/v0.2</a></li><li><strong>meter_devices</strong>: <ul><li><strong>eMonitor</strong>: <ul><li><strong>model</strong>: eMonitor</li><li><strong>manufacturer</strong>: TP-Link SmartPlug HS111</li><li><strong>manufacturer_url</strong>: </li><li><strong>description</strong>: The  dataset contains appliances that have the potential for automated load-shifting. Appliances falling under these terms are washing machines, dishwashers, fridges and freezers, thus the datasets will mostly contain these appliances.As part of the project a statistic based appliance usage prediction algorithm has been developed that will help to reduce the complexity of RTP behavior recommendations systems as well as an event segmentation algorithm that help to identify appliances usages in raw energy measurements\n",
       "</li><li><strong>sample_period</strong>: 1</li><li><strong>max_sample_period</strong>: 3900</li><li><strong>measurements</strong>: <ul><li>{'physical_quantity': 'power', 'type': 'active', 'upper_limit': 3680, 'lower_limit': 0}</li></ul></li><li><strong>wireless</strong>: False</li></ul></li><li><strong>DEDDIAG_whole_house</strong>: <ul><li><strong>description</strong>: One home also includes three-phase mains readings that can be used for disaggregation tasks. In total the dataset contains 15 homes with a total of 50 appliances. One home also includes three-phase mains readings that can be used for disaggregation tasks\n",
       "</li><li><strong>manufacturer</strong>: ABB B23 112-100</li><li><strong>sample_period</strong>: 1</li><li><strong>max_sample_period</strong>: 3900</li><li><strong>measurements</strong>: <ul><li>{'physical_quantity': 'power', 'type': 'active', 'upper_limit': 14950, 'lower_limit': 0}</li></ul></li><li><strong>wireless</strong>: False</li></ul></li></ul></li></ul>"
      ],
      "text/plain": [
       "<IPython.core.display.HTML object>"
      ]
     },
     "metadata": {},
     "output_type": "display_data"
    }
   ],
   "source": [
    "from nilmtk.utils import print_dict\n",
    "\n",
    "print_dict(deddiag.metadata)"
   ]
  },
  {
   "cell_type": "markdown",
   "metadata": {},
   "source": [
    "### Extract Appliances"
   ]
  },
  {
   "cell_type": "code",
   "execution_count": 17,
   "metadata": {},
   "outputs": [
    {
     "data": {
      "text/html": [
       "<div>\n",
       "<style scoped>\n",
       "    .dataframe tbody tr th:only-of-type {\n",
       "        vertical-align: middle;\n",
       "    }\n",
       "\n",
       "    .dataframe tbody tr th {\n",
       "        vertical-align: top;\n",
       "    }\n",
       "\n",
       "    .dataframe thead tr th {\n",
       "        text-align: left;\n",
       "    }\n",
       "\n",
       "    .dataframe thead tr:last-of-type th {\n",
       "        text-align: right;\n",
       "    }\n",
       "</style>\n",
       "<table border=\"1\" class=\"dataframe\">\n",
       "  <thead>\n",
       "    <tr>\n",
       "      <th>physical_quantity</th>\n",
       "      <th>power</th>\n",
       "    </tr>\n",
       "    <tr>\n",
       "      <th>type</th>\n",
       "      <th>active</th>\n",
       "    </tr>\n",
       "    <tr>\n",
       "      <th>time</th>\n",
       "      <th></th>\n",
       "    </tr>\n",
       "  </thead>\n",
       "  <tbody>\n",
       "    <tr>\n",
       "      <th>2017-10-21 02:00:00+02:00</th>\n",
       "      <td>0.320297</td>\n",
       "    </tr>\n",
       "    <tr>\n",
       "      <th>2017-10-21 02:00:00+02:00</th>\n",
       "      <td>0.320297</td>\n",
       "    </tr>\n",
       "    <tr>\n",
       "      <th>2017-10-21 02:00:01+02:00</th>\n",
       "      <td>0.421655</td>\n",
       "    </tr>\n",
       "    <tr>\n",
       "      <th>2017-10-21 02:00:02+02:00</th>\n",
       "      <td>0.374965</td>\n",
       "    </tr>\n",
       "    <tr>\n",
       "      <th>2017-10-21 02:00:03+02:00</th>\n",
       "      <td>0.394815</td>\n",
       "    </tr>\n",
       "    <tr>\n",
       "      <th>...</th>\n",
       "      <td>...</td>\n",
       "    </tr>\n",
       "    <tr>\n",
       "      <th>2018-01-19 00:59:55+01:00</th>\n",
       "      <td>0.337772</td>\n",
       "    </tr>\n",
       "    <tr>\n",
       "      <th>2018-01-19 00:59:56+01:00</th>\n",
       "      <td>0.337772</td>\n",
       "    </tr>\n",
       "    <tr>\n",
       "      <th>2018-01-19 00:59:57+01:00</th>\n",
       "      <td>0.369624</td>\n",
       "    </tr>\n",
       "    <tr>\n",
       "      <th>2018-01-19 00:59:58+01:00</th>\n",
       "      <td>0.364546</td>\n",
       "    </tr>\n",
       "    <tr>\n",
       "      <th>2018-01-19 00:59:59+01:00</th>\n",
       "      <td>0.405960</td>\n",
       "    </tr>\n",
       "  </tbody>\n",
       "</table>\n",
       "<p>7890456 rows × 1 columns</p>\n",
       "</div>"
      ],
      "text/plain": [
       "physical_quantity             power\n",
       "type                         active\n",
       "time                               \n",
       "2017-10-21 02:00:00+02:00  0.320297\n",
       "2017-10-21 02:00:00+02:00  0.320297\n",
       "2017-10-21 02:00:01+02:00  0.421655\n",
       "2017-10-21 02:00:02+02:00  0.374965\n",
       "2017-10-21 02:00:03+02:00  0.394815\n",
       "...                             ...\n",
       "2018-01-19 00:59:55+01:00  0.337772\n",
       "2018-01-19 00:59:56+01:00  0.337772\n",
       "2018-01-19 00:59:57+01:00  0.369624\n",
       "2018-01-19 00:59:58+01:00  0.364546\n",
       "2018-01-19 00:59:59+01:00  0.405960\n",
       "\n",
       "[7890456 rows x 1 columns]"
      ]
     },
     "execution_count": 17,
     "metadata": {},
     "output_type": "execute_result"
    }
   ],
   "source": [
    "fridge = elec['fridge']\n",
    "next(fridge.load())"
   ]
  },
  {
   "cell_type": "code",
   "execution_count": 26,
   "metadata": {},
   "outputs": [
    {
     "data": {
      "text/plain": [
       "time\n",
       "2017-10-21 02:00:00+02:00    False\n",
       "2017-10-21 02:00:00+02:00    False\n",
       "2017-10-21 02:00:01+02:00    False\n",
       "2017-10-21 02:00:02+02:00    False\n",
       "2017-10-21 02:00:03+02:00    False\n",
       "                             ...  \n",
       "2018-01-19 00:59:55+01:00    False\n",
       "2018-01-19 00:59:56+01:00    False\n",
       "2018-01-19 00:59:57+01:00    False\n",
       "2018-01-19 00:59:58+01:00    False\n",
       "2018-01-19 00:59:59+01:00    False\n",
       "Name: (power, active), Length: 7890456, dtype: bool"
      ]
     },
     "execution_count": 26,
     "metadata": {},
     "output_type": "execute_result"
    }
   ],
   "source": [
    "next(fridge.when_on())"
   ]
  },
  {
   "cell_type": "code",
   "execution_count": 18,
   "metadata": {},
   "outputs": [
    {
     "data": {
      "text/plain": [
       "<matplotlib.axes._subplots.AxesSubplot at 0x7f82ce110190>"
      ]
     },
     "execution_count": 18,
     "metadata": {},
     "output_type": "execute_result"
    },
    {
     "data": {
      "image/png": "[encoded data removed]",
      "text/plain": [
       "<Figure size 640x480 with 1 Axes>"
      ]
     },
     "metadata": {},
     "output_type": "display_data"
    }
   ],
   "source": [
    "elec.plot_when_on()"
   ]
  }
 ],
 "metadata": {
  "kernelspec": {
   "display_name": "nilmtk-env",
   "language": "python",
   "name": "python3"
  },
  "language_info": {
   "codemirror_mode": {
    "name": "ipython",
    "version": 3
   },
   "file_extension": ".py",
   "mimetype": "text/x-python",
   "name": "python",
   "nbconvert_exporter": "python",
   "pygments_lexer": "ipython3",
   "version": "3.8.18"
  }
 },
 "nbformat": 4,
 "nbformat_minor": 2
}
