{
 "cells": [
  {
   "cell_type": "markdown",
   "metadata": {},
   "source": [
    "# Home Dataset Creation"
   ]
  },
  {
   "cell_type": "markdown",
   "metadata": {},
   "source": [
    "This notebook is used to create the home dataset, by composing different appliances and their respective power consumption. The datasets used are GREEND and UK-DALE. The power consumption and metadata are read from the dataset using the [nilmtk](https://github.com/nilmtk) library.\n",
    "\n",
    "The notebook does not include the datasets themselves, which can be downloaded from the respective websites:\n",
    "- [GREEND](https://sourceforge.net/projects/greend/files/)\n",
    "- [UK-DALE](https://data.ukedc.rl.ac.uk/browse/edc/efficiency/residential/EnergyConsumption/Domestic/UK-DALE-2017/UK-DALE-FULL-disaggregated?dataid=7d78f943-f9fe-413b-af52-1816f9d968b0)\n",
    "\n",
    "Both datasets are provided in the h5 format supported by NILMTK, so no conversion should be needed. If the provided h5 formats do not work for any reason, download the raw data and convert it to the h5 format using the [NILMTK converters](https://github.com/nilmtk/nilmtk/blob/master/docs/manual/user_guide/data.ipynb).\n",
    "\n",
    "It is recommended to run this notebook in a local `conda` environment. Installing NILMTK in a Google colab notebook or other cloud environment is very hacky. Also, using `venv` rather than `conda` does not work, as NILMTK refuses to install in a `venv` environment."
   ]
  },
  {
   "cell_type": "markdown",
   "metadata": {},
   "source": [
    "## Setup"
   ]
  },
  {
   "cell_type": "code",
   "execution_count": null,
   "metadata": {},
   "outputs": [],
   "source": [
    "%pip install git+https://github.com/nilmtk/nilmtk # Install from git because the conda package is out of date at the time of writing\n",
    "%pip install git+https://github.com/nilmtk/nilm_metadata # Manual installation required because nilmtk is installed from git"
   ]
  },
  {
   "cell_type": "code",
   "execution_count": null,
   "metadata": {},
   "outputs": [],
   "source": [
    "GREEND_PATH = '/data/greend.h5'\n",
    "UK_DALE_PATH = '/data/uk_dale.h5'\n",
    "APPLIANCES_OUT_DIR = '/appliances'\n",
    "ACTIVATIONS_OUT_DIR = '/activations'"
   ]
  },
  {
   "cell_type": "markdown",
   "metadata": {},
   "source": [
    "## GREEND"
   ]
  },
  {
   "cell_type": "code",
   "execution_count": 1,
   "metadata": {},
   "outputs": [],
   "source": [
    "from nilmtk import DataSet\n",
    "\n",
    "greend = DataSet(GREEND_PATH)"
   ]
  },
  {
   "cell_type": "markdown",
   "metadata": {},
   "source": [
    "### Extract Raw Appliance Data"
   ]
  },
  {
   "cell_type": "code",
   "execution_count": 18,
   "metadata": {},
   "outputs": [
    {
     "name": "stdout",
     "output_type": "stream",
     "text": [
      "> Building: 1\n",
      "  - Appliance: lamp ... OK\n",
      "> Building: 3\n",
      "  - Appliance: microwave ... OK\n",
      "  - Appliance: washing machine ... OK\n",
      "  - Appliance: audio amplifier ... OK\n",
      "> Building: 5\n",
      "  - Appliance: desktop computer ... OK\n",
      "  - Appliance: television ... OK\n",
      "  - Appliance: fridge ... OK\n",
      "  - Appliance: dish washer ... OK\n"
     ]
    }
   ],
   "source": [
    "# Map of building number to list of appliances\n",
    "# In NILMTK the building numbers start from 1, not 0\n",
    "appliances = {\n",
    "    3: ['microwave', 'washing machine', 'audio amplifier'],\n",
    "    5: ['desktop computer', 'television', 'fridge', 'dish washer']\n",
    "}\n",
    "\n",
    "for building, appliance_list in appliances.items():\n",
    "    print(\"> Building:\", building)\n",
    "\n",
    "    for appliance in appliance_list:\n",
    "        print(f\"  - Appliance: {appliance} ... \", end=\"\")\n",
    "        name_undercase = appliance.replace(' ', '_')\n",
    "\n",
    "        df = next(greend.buildings[building].elec[appliance].load()).reset_index()\n",
    "\n",
    "        # Rename columns and drop timestamp\n",
    "        df.columns = [\"timestamp\", \"power\"]\n",
    "        df.drop(columns=[\"timestamp\"], inplace=True)\n",
    "\n",
    "        # Compute the average power over 1 minute intervals\n",
    "        df = df.rolling(60, min_periods=1).mean()[::60]\n",
    "\n",
    "        df.to_csv(f\"{APPLIANCES_OUT_DIR}/{name_undercase}.csv\", index=False)\n",
    "        print(\"OK\")"
   ]
  },
  {
   "cell_type": "markdown",
   "metadata": {},
   "source": [
    "### Extract Activations"
   ]
  },
  {
   "cell_type": "code",
   "execution_count": 3,
   "metadata": {},
   "outputs": [
    {
     "name": "stdout",
     "output_type": "stream",
     "text": [
      "> Building: 1\n",
      "  - Appliance: fridge ... "
     ]
    },
    {
     "name": "stderr",
     "output_type": "stream",
     "text": [
      "/tmp/ipykernel_26326/3344452769.py:23: FutureWarning: The signature of `Series.to_csv` was aligned to that of `DataFrame.to_csv`, and argument 'header' will change its default value from False to True: please pass an explicit value to suppress this warning.\n",
      "  activ.to_csv(f\"activations/{name_undercase}/{i}.csv\", index=False)\n"
     ]
    },
    {
     "name": "stdout",
     "output_type": "stream",
     "text": [
      "OK\n",
      "  - Appliance: lamp ... OK\n",
      "  - Appliance: television ... OK\n",
      "> Building: 3\n",
      "  - Appliance: microwave ... OK\n",
      "  - Appliance: washing machine ... OK\n",
      "  - Appliance: audio amplifier ... OK\n"
     ]
    }
   ],
   "source": [
    "import os \n",
    "\n",
    "activations ={\n",
    "    3: {'microwave': [20,10,20], 'washing machine': [30,30,20], 'audio amplifier': [5,5,10]},\n",
    "    # Building 5 is on kaggle due to local mem constraints\n",
    "}\n",
    "\n",
    "for building, appliance_list in activations.items():\n",
    "    print(\"> Building:\", building)\n",
    "\n",
    "    for appliance, params in appliance_list.items():\n",
    "        print(f\"  - Appliance: {appliance} ... \", end=\"\")\n",
    "        name_undercase = appliance.replace(' ', '_')\n",
    "\n",
    "        app = greend.buildings[building].elec[appliance].get_activations(min_off_duration=params[0], min_on_duration=params[1], on_power_threshold=params[2])\n",
    "\n",
    "        os.mkdir(f\"{ACTIVATIONS_OUT_DIR}/{name_undercase}\")\n",
    "\n",
    "        for i, activ in enumerate(app):\n",
    "            activ.reset_index(drop=True, inplace=True)\n",
    "            activ.dropna(inplace=True)\n",
    "        \n",
    "            activ.to_csv(f\"{ACTIVATIONS_OUT_DIR}/{name_undercase}/{i}.csv\", index=False)\n",
    "\n",
    "        print(\"OK\")"
   ]
  },
  {
   "cell_type": "markdown",
   "metadata": {},
   "source": [
    "## UK-DALE"
   ]
  },
  {
   "cell_type": "code",
   "execution_count": 1,
   "metadata": {},
   "outputs": [],
   "source": [
    "from nilmtk import DataSet\n",
    "\n",
    "ukdale = DataSet(UK_DALE_PATH)"
   ]
  },
  {
   "cell_type": "markdown",
   "metadata": {},
   "source": [
    "### AC"
   ]
  },
  {
   "cell_type": "code",
   "execution_count": 173,
   "metadata": {},
   "outputs": [
    {
     "name": "stdout",
     "output_type": "stream",
     "text": [
      "OK\n"
     ]
    }
   ],
   "source": [
    "ac = ukdale.buildings[5].elec.all_meters()[24]\n",
    "df = next(ac.load())\n",
    "df = df[\"power\"][\"active\"].reset_index()\n",
    "df.columns = [\"timestamp\", \"power\"]\n",
    "df.drop(columns=[\"timestamp\"], inplace=True)\n",
    "\n",
    "df = df.rolling(60, min_periods=1).mean()[::60]\n",
    "\n",
    "df.to_csv(f\"{APPLIANCES_OUT_DIR}/ac.csv\", index=False)\n",
    "print(\"OK\")"
   ]
  },
  {
   "cell_type": "code",
   "execution_count": 32,
   "metadata": {},
   "outputs": [
    {
     "name": "stdout",
     "output_type": "stream",
     "text": [
      "1095 5763.330593607306\n"
     ]
    },
    {
     "name": "stderr",
     "output_type": "stream",
     "text": [
      "/tmp/ipykernel_45841/3623357510.py:17: FutureWarning: The signature of `Series.to_csv` was aligned to that of `DataFrame.to_csv`, and argument 'header' will change its default value from False to True: please pass an explicit value to suppress this warning.\n",
      "  activ.to_csv(f\"activations/ac/{i}.csv\", index=False)\n"
     ]
    },
    {
     "name": "stdout",
     "output_type": "stream",
     "text": [
      "OK\n"
     ]
    }
   ],
   "source": [
    "import numpy as np\n",
    "import os\n",
    "\n",
    "activations = ac.get_activations(min_off_duration=120, min_on_duration=120, on_power_threshold=300)\n",
    "\n",
    "os.mkdir(f\"{ACTIVATIONS_OUT_DIR}/ac\")\n",
    "\n",
    "for i, activ in enumerate(activations):\n",
    "    activ.reset_index(drop=True, inplace=True)\n",
    "    activ.dropna(inplace=True)\n",
    "\n",
    "    activ.to_csv(f\"{ACTIVATIONS_OUT_DIR}/ac/{i}.csv\", index=False)\n",
    "\n",
    "print(\"OK\")"
   ]
  },
  {
   "cell_type": "markdown",
   "metadata": {},
   "source": [
    "### Boiler"
   ]
  },
  {
   "cell_type": "code",
   "execution_count": 181,
   "metadata": {},
   "outputs": [
    {
     "name": "stdout",
     "output_type": "stream",
     "text": [
      "OK\n"
     ]
    }
   ],
   "source": [
    "boiler = ukdale.buildings[4].elec[\"boiler\"]\n",
    "df = next(boiler.load())\n",
    "df = df[\"power\"][\"active\"].reset_index()\n",
    "df.columns = [\"timestamp\", \"power\"]\n",
    "df.drop(columns=[\"timestamp\"], inplace=True)\n",
    "\n",
    "df = df.rolling(10, min_periods=1).mean()[::10]\n",
    "\n",
    "df.to_csv(f\"{APPLIANCES_OUT_DIR}/boiler.csv\", index=False)\n",
    "print(\"OK\")"
   ]
  },
  {
   "cell_type": "code",
   "execution_count": 34,
   "metadata": {},
   "outputs": [
    {
     "name": "stdout",
     "output_type": "stream",
     "text": [
      "607 903.6457990115322\n"
     ]
    },
    {
     "name": "stderr",
     "output_type": "stream",
     "text": [
      "/tmp/ipykernel_45841/526963643.py:14: FutureWarning: The signature of `Series.to_csv` was aligned to that of `DataFrame.to_csv`, and argument 'header' will change its default value from False to True: please pass an explicit value to suppress this warning.\n",
      "  activ.to_csv(f\"activations/boiler/{i}.csv\", index=False)\n"
     ]
    },
    {
     "name": "stdout",
     "output_type": "stream",
     "text": [
      "OK\n"
     ]
    }
   ],
   "source": [
    "activations = boiler.get_activations(min_off_duration=10, min_on_duration=5, on_power_threshold=50)\n",
    "\n",
    "os.mkdir(f\"{ACTIVATIONS_OUT_DIR}/boiler\")\n",
    "\n",
    "for i, activ in enumerate(activations):\n",
    "    activ.reset_index(drop=True, inplace=True)\n",
    "    activ.dropna(inplace=True)\n",
    "\n",
    "    activ.to_csv(f\"{ACTIVATIONS_OUT_DIR}/boiler/{i}.csv\", index=False)\n",
    "\n",
    "print(\"OK\")"
   ]
  },
  {
   "cell_type": "markdown",
   "metadata": {},
   "source": [
    "### Lamp"
   ]
  },
  {
   "cell_type": "code",
   "execution_count": 185,
   "metadata": {},
   "outputs": [
    {
     "name": "stdout",
     "output_type": "stream",
     "text": [
      "OK\n"
     ]
    }
   ],
   "source": [
    "lamp = ukdale.buildings[1].elec.all_meters()[21]\n",
    "df = next(lamp.load())\n",
    "df = df[\"power\"][\"active\"].reset_index()\n",
    "df.columns = [\"timestamp\", \"power\"]\n",
    "df.drop(columns=[\"timestamp\"], inplace=True)\n",
    "\n",
    "df = df.rolling(10, min_periods=1).mean()[::10]\n",
    "\n",
    "df.to_csv(f\"{APPLIANCES_OUT_DIR}/lamp.csv\", index=False)\n",
    "print(\"OK\")"
   ]
  },
  {
   "cell_type": "code",
   "execution_count": 36,
   "metadata": {},
   "outputs": [
    {
     "name": "stdout",
     "output_type": "stream",
     "text": [
      "812 412.7894088669951\n"
     ]
    },
    {
     "name": "stderr",
     "output_type": "stream",
     "text": [
      "/tmp/ipykernel_45841/2740407595.py:14: FutureWarning: The signature of `Series.to_csv` was aligned to that of `DataFrame.to_csv`, and argument 'header' will change its default value from False to True: please pass an explicit value to suppress this warning.\n",
      "  activ.to_csv(f\"activations/lamp/{i}.csv\", index=False)\n"
     ]
    },
    {
     "name": "stdout",
     "output_type": "stream",
     "text": [
      "OK\n"
     ]
    }
   ],
   "source": [
    "activations = lamp.get_activations(min_off_duration=1, min_on_duration=1, on_power_threshold=5)\n",
    "\n",
    "os.mkdir(f\"{ACTIVATIONS_OUT_DIR}/lamp\")\n",
    "\n",
    "for i, activ in enumerate(activations):\n",
    "    activ.reset_index(drop=True, inplace=True)\n",
    "    activ.dropna(inplace=True)\n",
    "\n",
    "    activ.to_csv(f\"{ACTIVATIONS_OUT_DIR}/lamp/{i}.csv\", index=False)\n",
    "\n",
    "print(\"OK\")"
   ]
  }
 ],
 "metadata": {
  "kernelspec": {
   "display_name": "nilmtk-env",
   "language": "python",
   "name": "python3"
  },
  "language_info": {
   "codemirror_mode": {
    "name": "ipython",
    "version": 3
   },
   "file_extension": ".py",
   "mimetype": "text/x-python",
   "name": "python",
   "nbconvert_exporter": "python",
   "pygments_lexer": "ipython3",
   "version": "3.8.18"
  }
 },
 "nbformat": 4,
 "nbformat_minor": 2
}
